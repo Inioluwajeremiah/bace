{
 "cells": [
  {
   "cell_type": "code",
   "execution_count": null,
   "id": "88baa85f",
   "metadata": {},
   "outputs": [],
   "source": [
    "# wget https://github.com/dataprofessor/padel/raw/main/fingerprints_xml.zip\n",
    "# !pip install padelpy"
   ]
  },
  {
   "cell_type": "code",
   "execution_count": 1,
   "id": "35a7bc4e",
   "metadata": {},
   "outputs": [
    {
     "data": {
      "text/plain": [
       "(461, 6)"
      ]
     },
     "execution_count": 1,
     "metadata": {},
     "output_type": "execute_result"
    }
   ],
   "source": [
    "import pandas as pd\n",
    "bace_inhibitors = pd.read_csv('clean_bace_selected_features.csv')\n",
    "bace_inhibitors.shape"
   ]
  },
  {
   "cell_type": "code",
   "execution_count": 4,
   "id": "4119bfd3",
   "metadata": {},
   "outputs": [
    {
     "data": {
      "text/plain": [
       "112"
      ]
     },
     "execution_count": 4,
     "metadata": {},
     "output_type": "execute_result"
    }
   ],
   "source": [
    "# bace_inhibitors['BindingDB Reactant_set_id'].duplicated().sum()\n",
    "bace_inhibitors['BindingDB MonomerID'].duplicated().sum()"
   ]
  },
  {
   "cell_type": "code",
   "execution_count": 6,
   "id": "baf05f72",
   "metadata": {},
   "outputs": [
    {
     "data": {
      "text/plain": [
       "(349, 6)"
      ]
     },
     "execution_count": 6,
     "metadata": {},
     "output_type": "execute_result"
    }
   ],
   "source": [
    "bace_inhibitors = bace_inhibitors.drop_duplicates(subset=['BindingDB MonomerID'], keep= 'first')\n",
    "bace_inhibitors.shape"
   ]
  },
  {
   "cell_type": "markdown",
   "id": "a4bebd31",
   "metadata": {},
   "source": [
    "### Descriptors"
   ]
  },
  {
   "cell_type": "code",
   "execution_count": 8,
   "id": "57a265a3",
   "metadata": {},
   "outputs": [
    {
     "data": {
      "text/plain": [
       "(349, 2)"
      ]
     },
     "execution_count": 8,
     "metadata": {},
     "output_type": "execute_result"
    }
   ],
   "source": [
    "# Prepare dataset for calculating padel descriptor\n",
    "\n",
    "smiles_n_id = pd.concat([bace_inhibitors['Ligand SMILES'],bace_inhibitors['BindingDB Reactant_set_id']], axis=1)\n",
    "smiles_n_id.to_csv('molecule.smi', sep='\\t', index=False, header=False)\n",
    "smiles_n_id.shape"
   ]
  },
  {
   "cell_type": "code",
   "execution_count": 9,
   "id": "d4084a4b",
   "metadata": {},
   "outputs": [],
   "source": [
    "# solve ddll error => https://github.com/conda/conda/issues/11795#issuecomment-1335666474\n",
    "# this worked\n",
    "# pip install rdkit --user"
   ]
  },
  {
   "cell_type": "code",
   "execution_count": 61,
   "id": "e62ae11b",
   "metadata": {},
   "outputs": [],
   "source": [
    "# pip install rdkit-pypi"
   ]
  },
  {
   "cell_type": "code",
   "execution_count": 4,
   "id": "9661f6f9",
   "metadata": {},
   "outputs": [],
   "source": [
    "# https://github.com/mordred-descriptor/mordred\n",
    "# pip install mordred"
   ]
  },
  {
   "cell_type": "code",
   "execution_count": 9,
   "id": "5c41919a",
   "metadata": {},
   "outputs": [],
   "source": [
    "from rdkit import Chem\n",
    "from rdkit.Chem import AllChem\n",
    "from rdkit.Chem import Descriptors\n",
    "from rdkit.ML.Descriptors import MoleculeDescriptors "
   ]
  },
  {
   "cell_type": "code",
   "execution_count": 10,
   "id": "52ba796f",
   "metadata": {},
   "outputs": [],
   "source": [
    "# check canonicity of the ligand smile notation using RDKit\n",
    "def generate_canonical_smiles(mol_smiles):\n",
    "    mols = [Chem.MolFromSmiles(mol_smile) for mol_smile in mol_smiles]\n",
    "    canonical_smiles = [Chem.MolToSmiles(mol) for mol in mols] \n",
    "    return canonical_smiles "
   ]
  },
  {
   "cell_type": "code",
   "execution_count": 12,
   "id": "78281aa0",
   "metadata": {},
   "outputs": [
    {
     "data": {
      "text/plain": [
       "['O=C(O)c1cc(/C=C/c2ccc(/C=C/c3ccc(O)c(C(=O)O)c3)c(Br)c2)ccc1O',\n",
       " 'O=C(O)c1cc(/C=C\\\\c2ccc(/C=C\\\\c3ccc(O)c(C(=O)O)c3)c(Br)c2)ccc1O',\n",
       " 'O=C(O)c1cc(N=Nc2ccc(-c3ccc(N=Nc4ccc(O)c(C(=O)O)c4)cc3)cc2)ccc1O',\n",
       " 'COc1ccc(/C=C/c2ccc(/C=C/c3ccc(OC)c(C(=O)O)c3)c(I)c2)cc1C(=O)O',\n",
       " 'O=C(O)c1cc(/C=C\\\\c2ccc(/C=C/c3ccc(O)c(C(=O)O)c3)cc2Br)ccc1O']"
      ]
     },
     "execution_count": 12,
     "metadata": {},
     "output_type": "execute_result"
    }
   ],
   "source": [
    "canonical_smile = generate_canonical_smiles(bace_inhibitors['Ligand SMILES'])\n",
    "canonical_smile[0:5]"
   ]
  },
  {
   "cell_type": "code",
   "execution_count": 13,
   "id": "48d59e73",
   "metadata": {},
   "outputs": [
    {
     "data": {
      "text/plain": [
       "(349, 6)"
      ]
     },
     "execution_count": 13,
     "metadata": {},
     "output_type": "execute_result"
    }
   ],
   "source": [
    "bace_inhibitors['Ligand SMILES'] = canonical_smile\n",
    "bace_inhibitors.shape"
   ]
  },
  {
   "cell_type": "code",
   "execution_count": 31,
   "id": "7605dcde",
   "metadata": {},
   "outputs": [],
   "source": [
    "bace_inhibitors.to_csv('clean_bace_inhibitors.csv', index=False)"
   ]
  },
  {
   "cell_type": "code",
   "execution_count": 14,
   "id": "238260fd",
   "metadata": {},
   "outputs": [
    {
     "data": {
      "text/plain": [
       "0"
      ]
     },
     "execution_count": 14,
     "metadata": {},
     "output_type": "execute_result"
    }
   ],
   "source": [
    "# check for list of duplicated smiles\n",
    "duplicated_smiles = bace_inhibitors[bace_inhibitors['Ligand SMILES'].duplicated()]['Ligand SMILES'].values\n",
    "len(duplicated_smiles)"
   ]
  },
  {
   "cell_type": "code",
   "execution_count": 15,
   "id": "2982037b",
   "metadata": {},
   "outputs": [
    {
     "data": {
      "text/html": [
       "<div>\n",
       "<style scoped>\n",
       "    .dataframe tbody tr th:only-of-type {\n",
       "        vertical-align: middle;\n",
       "    }\n",
       "\n",
       "    .dataframe tbody tr th {\n",
       "        vertical-align: top;\n",
       "    }\n",
       "\n",
       "    .dataframe thead th {\n",
       "        text-align: right;\n",
       "    }\n",
       "</style>\n",
       "<table border=\"1\" class=\"dataframe\">\n",
       "  <thead>\n",
       "    <tr style=\"text-align: right;\">\n",
       "      <th></th>\n",
       "      <th>BindingDB Reactant_set_id</th>\n",
       "      <th>Ligand SMILES</th>\n",
       "      <th>BindingDB MonomerID</th>\n",
       "      <th>BindingDB Ligand Name</th>\n",
       "      <th>Target Name</th>\n",
       "      <th>Ki (nM)</th>\n",
       "    </tr>\n",
       "  </thead>\n",
       "  <tbody>\n",
       "  </tbody>\n",
       "</table>\n",
       "</div>"
      ],
      "text/plain": [
       "Empty DataFrame\n",
       "Columns: [BindingDB Reactant_set_id, Ligand SMILES, BindingDB MonomerID, BindingDB Ligand Name, Target Name, Ki (nM)]\n",
       "Index: []"
      ]
     },
     "execution_count": 15,
     "metadata": {},
     "output_type": "execute_result"
    }
   ],
   "source": [
    "# list of duplicated files\n",
    "bace_inhibitors[bace_inhibitors['Ligand SMILES'].isin(duplicated_smiles)].sort_values(by=['Ligand SMILES'])"
   ]
  },
  {
   "cell_type": "markdown",
   "id": "9c9dec66",
   "metadata": {},
   "source": [
    "### RDKit descriptors\n"
   ]
  },
  {
   "cell_type": "code",
   "execution_count": 55,
   "id": "84b73375",
   "metadata": {},
   "outputs": [],
   "source": [
    "# list of rdKit decriptors and length (209 in total)\n",
    "# Descriptors._descList\n",
    "# len(Descriptors._descList)"
   ]
  },
  {
   "cell_type": "code",
   "execution_count": 16,
   "id": "f8b1cc00",
   "metadata": {},
   "outputs": [
    {
     "data": {
      "text/plain": [
       "<rdkit.ML.Descriptors.MoleculeDescriptors.MolecularDescriptorCalculator at 0x21c0641ea40>"
      ]
     },
     "execution_count": 16,
     "metadata": {},
     "output_type": "execute_result"
    }
   ],
   "source": [
    "# list of rdkit descriptors\n",
    "rdkit_descriptor_names = [descriptor[0] for descriptor in Descriptors._descList]\n",
    "\n",
    "# initialize rdkit descriptor calculator with passing list of rdkit descriptor names as an arguement\n",
    "# returns an instance of the descriptot calculator\n",
    "rdkit_descriptors = MoleculeDescriptors.MolecularDescriptorCalculator(rdkit_descriptor_names);\n",
    "rdkit_descriptors\n"
   ]
  },
  {
   "cell_type": "code",
   "execution_count": 28,
   "id": "7d4f3820",
   "metadata": {},
   "outputs": [],
   "source": [
    "# pass in the list of molecules into the calculate descriptors method\n",
    "# returns the list of generated descriptors\n",
    "\n",
    "def generate_rdkit_descriptors (smile_list):\n",
    "    \n",
    "    # list of rdkit descriptors\n",
    "    rdkit_descriptor_names = [descriptor[0] for descriptor in Descriptors._descList]\n",
    "    \n",
    "    # initialize rdkit descriptor calculator with passing list of rdkit descriptor names as an arguement\n",
    "    # returns an instance of the descriptot calculator\n",
    "    rdkit_descriptors = MoleculeDescriptors.MolecularDescriptorCalculator(rdkit_descriptor_names);\n",
    "    \n",
    "    # convert smile to rdkit molecule.\n",
    "    # returns a list of rdkit molecules\n",
    "    ligands = [Chem.MolFromSmiles(ligand_smile) for ligand_smile in smile_list]\n",
    "    \n",
    "    print(ligands)\n",
    "    \n",
    "    desc_name = rdkit_descriptors.GetDescriptorNames()\n",
    "    \n",
    "    # list of descriptors\n",
    "    ligand_rdkit_descriptors = []\n",
    "    \n",
    "    #loop through each ligand\n",
    "    for ligand in ligands:\n",
    "        \n",
    "        # add hydrogens to each ligand\n",
    "        ligand = Chem.AddHs(ligand)\n",
    "        \n",
    "        # calculate descriptors for each ligand\n",
    "        ligand_descriptor = rdkit_descriptors.CalcDescriptors(ligand)\n",
    "        \n",
    "        # append ligand_descriptor to  ligand_rdkit_descriptors list\n",
    "        ligand_rdkit_descriptors.append(ligand_descriptor)\n",
    "        \n",
    "#     print(ligand_descriptor, desc_name)\n",
    "    return  ligand_rdkit_descriptors, desc_name\n",
    "        \n",
    "        \n"
   ]
  },
  {
   "cell_type": "code",
   "execution_count": 29,
   "id": "f270dfe2",
   "metadata": {},
   "outputs": [
    {
     "name": "stdout",
     "output_type": "stream",
     "text": [
      "[<rdkit.Chem.rdchem.Mol object at 0x0000021C108E33E0>, <rdkit.Chem.rdchem.Mol object at 0x0000021C108E1150>, <rdkit.Chem.rdchem.Mol object at 0x0000021C108E15B0>, <rdkit.Chem.rdchem.Mol object at 0x0000021C108E3680>, <rdkit.Chem.rdchem.Mol object at 0x0000021C108E3C30>, <rdkit.Chem.rdchem.Mol object at 0x0000021C108E3A70>, <rdkit.Chem.rdchem.Mol object at 0x0000021C108E38B0>, <rdkit.Chem.rdchem.Mol object at 0x0000021C108E3370>, <rdkit.Chem.rdchem.Mol object at 0x0000021C108E3530>, <rdkit.Chem.rdchem.Mol object at 0x0000021C108E30D0>, <rdkit.Chem.rdchem.Mol object at 0x0000021C108E25E0>, <rdkit.Chem.rdchem.Mol object at 0x0000021C108E1E00>, <rdkit.Chem.rdchem.Mol object at 0x0000021C108E2110>, <rdkit.Chem.rdchem.Mol object at 0x0000021C108E18C0>, <rdkit.Chem.rdchem.Mol object at 0x0000021C108E1540>, <rdkit.Chem.rdchem.Mol object at 0x0000021C108E10E0>, <rdkit.Chem.rdchem.Mol object at 0x0000021C108E0D60>, <rdkit.Chem.rdchem.Mol object at 0x0000021C108E0740>, <rdkit.Chem.rdchem.Mol object at 0x0000021C108E03C0>, <rdkit.Chem.rdchem.Mol object at 0x0000021C106526C0>, <rdkit.Chem.rdchem.Mol object at 0x0000021C10653220>, <rdkit.Chem.rdchem.Mol object at 0x0000021C10653680>, <rdkit.Chem.rdchem.Mol object at 0x0000021C10653990>, <rdkit.Chem.rdchem.Mol object at 0x0000021C10653A00>, <rdkit.Chem.rdchem.Mol object at 0x0000021C10653290>, <rdkit.Chem.rdchem.Mol object at 0x0000021C10653370>, <rdkit.Chem.rdchem.Mol object at 0x0000021C10653450>, <rdkit.Chem.rdchem.Mol object at 0x0000021C106536F0>, <rdkit.Chem.rdchem.Mol object at 0x0000021C10652F10>, <rdkit.Chem.rdchem.Mol object at 0x0000021C10652650>, <rdkit.Chem.rdchem.Mol object at 0x0000021C10652730>, <rdkit.Chem.rdchem.Mol object at 0x0000021C10652F80>, <rdkit.Chem.rdchem.Mol object at 0x0000021C10653BC0>, <rdkit.Chem.rdchem.Mol object at 0x0000021C10653B50>, <rdkit.Chem.rdchem.Mol object at 0x0000021C106533E0>, <rdkit.Chem.rdchem.Mol object at 0x0000021C10652EA0>, <rdkit.Chem.rdchem.Mol object at 0x0000021C106528F0>, <rdkit.Chem.rdchem.Mol object at 0x0000021C10652C70>, <rdkit.Chem.rdchem.Mol object at 0x0000021C10652FF0>, <rdkit.Chem.rdchem.Mol object at 0x0000021C106534C0>, <rdkit.Chem.rdchem.Mol object at 0x0000021C106538B0>, <rdkit.Chem.rdchem.Mol object at 0x0000021C10653C30>, <rdkit.Chem.rdchem.Mol object at 0x0000021C10653D10>, <rdkit.Chem.rdchem.Mol object at 0x0000021C10653F40>, <rdkit.Chem.rdchem.Mol object at 0x0000021C10652960>, <rdkit.Chem.rdchem.Mol object at 0x0000021C10652B20>, <rdkit.Chem.rdchem.Mol object at 0x0000021C10652CE0>, <rdkit.Chem.rdchem.Mol object at 0x0000021C10652D50>, <rdkit.Chem.rdchem.Mol object at 0x0000021C10653060>, <rdkit.Chem.rdchem.Mol object at 0x0000021C106530D0>, <rdkit.Chem.rdchem.Mol object at 0x0000021C106531B0>, <rdkit.Chem.rdchem.Mol object at 0x0000021C10653530>, <rdkit.Chem.rdchem.Mol object at 0x0000021C10653610>, <rdkit.Chem.rdchem.Mol object at 0x0000021C10653920>, <rdkit.Chem.rdchem.Mol object at 0x0000021C10653AE0>, <rdkit.Chem.rdchem.Mol object at 0x0000021C10653CA0>, <rdkit.Chem.rdchem.Mol object at 0x0000021C10653D80>, <rdkit.Chem.rdchem.Mol object at 0x0000021C10653E60>, <rdkit.Chem.rdchem.Mol object at 0x0000021C10653ED0>, <rdkit.Chem.rdchem.Mol object at 0x0000021C10653DF0>, <rdkit.Chem.rdchem.Mol object at 0x0000021C10653A70>, <rdkit.Chem.rdchem.Mol object at 0x0000021C106535A0>, <rdkit.Chem.rdchem.Mol object at 0x0000021C10653140>, <rdkit.Chem.rdchem.Mol object at 0x0000021C10652B90>, <rdkit.Chem.rdchem.Mol object at 0x0000021C10652AB0>, <rdkit.Chem.rdchem.Mol object at 0x0000021C0F30B6F0>, <rdkit.Chem.rdchem.Mol object at 0x0000021C0F30B8B0>, <rdkit.Chem.rdchem.Mol object at 0x0000021C0F30B840>, <rdkit.Chem.rdchem.Mol object at 0x0000021C109EA2D0>, <rdkit.Chem.rdchem.Mol object at 0x0000021C109EA340>, <rdkit.Chem.rdchem.Mol object at 0x0000021C109EA3B0>, <rdkit.Chem.rdchem.Mol object at 0x0000021C109EA420>, <rdkit.Chem.rdchem.Mol object at 0x0000021C109EA490>, <rdkit.Chem.rdchem.Mol object at 0x0000021C109EA500>, <rdkit.Chem.rdchem.Mol object at 0x0000021C109EA570>, <rdkit.Chem.rdchem.Mol object at 0x0000021C109EA5E0>, <rdkit.Chem.rdchem.Mol object at 0x0000021C109EA650>, <rdkit.Chem.rdchem.Mol object at 0x0000021C109EA6C0>, <rdkit.Chem.rdchem.Mol object at 0x0000021C109EA730>, <rdkit.Chem.rdchem.Mol object at 0x0000021C109EA7A0>, <rdkit.Chem.rdchem.Mol object at 0x0000021C109EA810>, <rdkit.Chem.rdchem.Mol object at 0x0000021C109EA880>, <rdkit.Chem.rdchem.Mol object at 0x0000021C109EA8F0>, <rdkit.Chem.rdchem.Mol object at 0x0000021C109EA960>, <rdkit.Chem.rdchem.Mol object at 0x0000021C109EA9D0>, <rdkit.Chem.rdchem.Mol object at 0x0000021C109EAA40>, <rdkit.Chem.rdchem.Mol object at 0x0000021C109EAAB0>, <rdkit.Chem.rdchem.Mol object at 0x0000021C109EAB20>, <rdkit.Chem.rdchem.Mol object at 0x0000021C109EAB90>, <rdkit.Chem.rdchem.Mol object at 0x0000021C109EAC00>, <rdkit.Chem.rdchem.Mol object at 0x0000021C109EAC70>, <rdkit.Chem.rdchem.Mol object at 0x0000021C109EACE0>, <rdkit.Chem.rdchem.Mol object at 0x0000021C109EAD50>, <rdkit.Chem.rdchem.Mol object at 0x0000021C109EADC0>, <rdkit.Chem.rdchem.Mol object at 0x0000021C109EAE30>, <rdkit.Chem.rdchem.Mol object at 0x0000021C109EAEA0>, <rdkit.Chem.rdchem.Mol object at 0x0000021C109EAF10>, <rdkit.Chem.rdchem.Mol object at 0x0000021C109EAF80>, <rdkit.Chem.rdchem.Mol object at 0x0000021C109EAFF0>, <rdkit.Chem.rdchem.Mol object at 0x0000021C109EB060>, <rdkit.Chem.rdchem.Mol object at 0x0000021C109EB0D0>, <rdkit.Chem.rdchem.Mol object at 0x0000021C109EB140>, <rdkit.Chem.rdchem.Mol object at 0x0000021C109EB1B0>, <rdkit.Chem.rdchem.Mol object at 0x0000021C109EB220>, <rdkit.Chem.rdchem.Mol object at 0x0000021C109EB290>, <rdkit.Chem.rdchem.Mol object at 0x0000021C109EB300>, <rdkit.Chem.rdchem.Mol object at 0x0000021C109EB370>, <rdkit.Chem.rdchem.Mol object at 0x0000021C109EB3E0>, <rdkit.Chem.rdchem.Mol object at 0x0000021C109EB450>, <rdkit.Chem.rdchem.Mol object at 0x0000021C109EB4C0>, <rdkit.Chem.rdchem.Mol object at 0x0000021C109EB530>, <rdkit.Chem.rdchem.Mol object at 0x0000021C109EB5A0>, <rdkit.Chem.rdchem.Mol object at 0x0000021C109EB610>, <rdkit.Chem.rdchem.Mol object at 0x0000021C109EB680>, <rdkit.Chem.rdchem.Mol object at 0x0000021C109EB6F0>, <rdkit.Chem.rdchem.Mol object at 0x0000021C109EB760>, <rdkit.Chem.rdchem.Mol object at 0x0000021C109EB7D0>, <rdkit.Chem.rdchem.Mol object at 0x0000021C109EB840>, <rdkit.Chem.rdchem.Mol object at 0x0000021C109EB8B0>, <rdkit.Chem.rdchem.Mol object at 0x0000021C109EB920>, <rdkit.Chem.rdchem.Mol object at 0x0000021C109EB990>, <rdkit.Chem.rdchem.Mol object at 0x0000021C109EBA00>, <rdkit.Chem.rdchem.Mol object at 0x0000021C109EBA70>, <rdkit.Chem.rdchem.Mol object at 0x0000021C109EBAE0>, <rdkit.Chem.rdchem.Mol object at 0x0000021C109EBB50>, <rdkit.Chem.rdchem.Mol object at 0x0000021C109EBBC0>, <rdkit.Chem.rdchem.Mol object at 0x0000021C109EBC30>, <rdkit.Chem.rdchem.Mol object at 0x0000021C109EBCA0>, <rdkit.Chem.rdchem.Mol object at 0x0000021C109EBD10>, <rdkit.Chem.rdchem.Mol object at 0x0000021C109EBD80>, <rdkit.Chem.rdchem.Mol object at 0x0000021C109EBDF0>, <rdkit.Chem.rdchem.Mol object at 0x0000021C109EBE60>, <rdkit.Chem.rdchem.Mol object at 0x0000021C109EBED0>, <rdkit.Chem.rdchem.Mol object at 0x0000021C109EBF40>, <rdkit.Chem.rdchem.Mol object at 0x0000021C10CAC040>, <rdkit.Chem.rdchem.Mol object at 0x0000021C10CAC0B0>, <rdkit.Chem.rdchem.Mol object at 0x0000021C10CAC120>, <rdkit.Chem.rdchem.Mol object at 0x0000021C10CAC190>, <rdkit.Chem.rdchem.Mol object at 0x0000021C10CAC200>, <rdkit.Chem.rdchem.Mol object at 0x0000021C10CAC270>, <rdkit.Chem.rdchem.Mol object at 0x0000021C10CAC2E0>, <rdkit.Chem.rdchem.Mol object at 0x0000021C10CAC350>, <rdkit.Chem.rdchem.Mol object at 0x0000021C10CAC3C0>, <rdkit.Chem.rdchem.Mol object at 0x0000021C10CAC430>, <rdkit.Chem.rdchem.Mol object at 0x0000021C10CAC4A0>, <rdkit.Chem.rdchem.Mol object at 0x0000021C10CAC510>, <rdkit.Chem.rdchem.Mol object at 0x0000021C10CAC580>, <rdkit.Chem.rdchem.Mol object at 0x0000021C10CAC5F0>, <rdkit.Chem.rdchem.Mol object at 0x0000021C10CAC660>, <rdkit.Chem.rdchem.Mol object at 0x0000021C10CAC6D0>, <rdkit.Chem.rdchem.Mol object at 0x0000021C10CAC740>, <rdkit.Chem.rdchem.Mol object at 0x0000021C10CAC7B0>, <rdkit.Chem.rdchem.Mol object at 0x0000021C10CAC820>, <rdkit.Chem.rdchem.Mol object at 0x0000021C10CAC890>, <rdkit.Chem.rdchem.Mol object at 0x0000021C10CAC900>, <rdkit.Chem.rdchem.Mol object at 0x0000021C10CAC970>, <rdkit.Chem.rdchem.Mol object at 0x0000021C10CAC9E0>, <rdkit.Chem.rdchem.Mol object at 0x0000021C10CACA50>, <rdkit.Chem.rdchem.Mol object at 0x0000021C10CACAC0>, <rdkit.Chem.rdchem.Mol object at 0x0000021C10CACB30>, <rdkit.Chem.rdchem.Mol object at 0x0000021C10CACBA0>, <rdkit.Chem.rdchem.Mol object at 0x0000021C10CACC10>, <rdkit.Chem.rdchem.Mol object at 0x0000021C10CACC80>, <rdkit.Chem.rdchem.Mol object at 0x0000021C10CACCF0>, <rdkit.Chem.rdchem.Mol object at 0x0000021C10CACD60>, <rdkit.Chem.rdchem.Mol object at 0x0000021C10CACDD0>, <rdkit.Chem.rdchem.Mol object at 0x0000021C10CACE40>, <rdkit.Chem.rdchem.Mol object at 0x0000021C10CACEB0>, <rdkit.Chem.rdchem.Mol object at 0x0000021C10CACF20>, <rdkit.Chem.rdchem.Mol object at 0x0000021C10CACF90>, <rdkit.Chem.rdchem.Mol object at 0x0000021C10CAD000>, <rdkit.Chem.rdchem.Mol object at 0x0000021C10CAD070>, <rdkit.Chem.rdchem.Mol object at 0x0000021C10CAD0E0>, <rdkit.Chem.rdchem.Mol object at 0x0000021C10CAD150>, <rdkit.Chem.rdchem.Mol object at 0x0000021C10CAD1C0>, <rdkit.Chem.rdchem.Mol object at 0x0000021C10CAD230>, <rdkit.Chem.rdchem.Mol object at 0x0000021C10CAD2A0>, <rdkit.Chem.rdchem.Mol object at 0x0000021C10CAD310>, <rdkit.Chem.rdchem.Mol object at 0x0000021C10CAD380>, <rdkit.Chem.rdchem.Mol object at 0x0000021C10CAD3F0>, <rdkit.Chem.rdchem.Mol object at 0x0000021C10CAD460>, <rdkit.Chem.rdchem.Mol object at 0x0000021C10CAD4D0>, <rdkit.Chem.rdchem.Mol object at 0x0000021C10CAD540>, <rdkit.Chem.rdchem.Mol object at 0x0000021C10CAD5B0>, <rdkit.Chem.rdchem.Mol object at 0x0000021C10CAD620>, <rdkit.Chem.rdchem.Mol object at 0x0000021C10CAD690>, <rdkit.Chem.rdchem.Mol object at 0x0000021C10CAD700>, <rdkit.Chem.rdchem.Mol object at 0x0000021C10CAD770>, <rdkit.Chem.rdchem.Mol object at 0x0000021C10CAD7E0>, <rdkit.Chem.rdchem.Mol object at 0x0000021C10CAD850>, <rdkit.Chem.rdchem.Mol object at 0x0000021C10CAD8C0>, <rdkit.Chem.rdchem.Mol object at 0x0000021C10CAD930>, <rdkit.Chem.rdchem.Mol object at 0x0000021C10CAD9A0>, <rdkit.Chem.rdchem.Mol object at 0x0000021C10CADA10>, <rdkit.Chem.rdchem.Mol object at 0x0000021C10CADA80>, <rdkit.Chem.rdchem.Mol object at 0x0000021C10CADAF0>, <rdkit.Chem.rdchem.Mol object at 0x0000021C10CADB60>, <rdkit.Chem.rdchem.Mol object at 0x0000021C10CADBD0>, <rdkit.Chem.rdchem.Mol object at 0x0000021C10CADC40>, <rdkit.Chem.rdchem.Mol object at 0x0000021C10CADCB0>, <rdkit.Chem.rdchem.Mol object at 0x0000021C10CADD20>, <rdkit.Chem.rdchem.Mol object at 0x0000021C10CADD90>, <rdkit.Chem.rdchem.Mol object at 0x0000021C10CADE00>, <rdkit.Chem.rdchem.Mol object at 0x0000021C10CADE70>, <rdkit.Chem.rdchem.Mol object at 0x0000021C10CADEE0>, <rdkit.Chem.rdchem.Mol object at 0x0000021C10CADF50>, <rdkit.Chem.rdchem.Mol object at 0x0000021C10CADFC0>, <rdkit.Chem.rdchem.Mol object at 0x0000021C10CAE030>, <rdkit.Chem.rdchem.Mol object at 0x0000021C10CAE0A0>, <rdkit.Chem.rdchem.Mol object at 0x0000021C10CAE110>, <rdkit.Chem.rdchem.Mol object at 0x0000021C10CAE180>, <rdkit.Chem.rdchem.Mol object at 0x0000021C10CAE1F0>, <rdkit.Chem.rdchem.Mol object at 0x0000021C10CAE260>, <rdkit.Chem.rdchem.Mol object at 0x0000021C10CAE2D0>, <rdkit.Chem.rdchem.Mol object at 0x0000021C10CAE340>, <rdkit.Chem.rdchem.Mol object at 0x0000021C10CAE3B0>, <rdkit.Chem.rdchem.Mol object at 0x0000021C10CAE420>, <rdkit.Chem.rdchem.Mol object at 0x0000021C10CAE490>, <rdkit.Chem.rdchem.Mol object at 0x0000021C10CAE500>, <rdkit.Chem.rdchem.Mol object at 0x0000021C10CAE570>, <rdkit.Chem.rdchem.Mol object at 0x0000021C10CAE5E0>, <rdkit.Chem.rdchem.Mol object at 0x0000021C10CAE650>, <rdkit.Chem.rdchem.Mol object at 0x0000021C10CAE6C0>, <rdkit.Chem.rdchem.Mol object at 0x0000021C10CAE730>, <rdkit.Chem.rdchem.Mol object at 0x0000021C10CAE7A0>, <rdkit.Chem.rdchem.Mol object at 0x0000021C10CAE810>, <rdkit.Chem.rdchem.Mol object at 0x0000021C10CAE880>, <rdkit.Chem.rdchem.Mol object at 0x0000021C10CAE8F0>, <rdkit.Chem.rdchem.Mol object at 0x0000021C10CAE960>, <rdkit.Chem.rdchem.Mol object at 0x0000021C10CAE9D0>, <rdkit.Chem.rdchem.Mol object at 0x0000021C10CAEA40>, <rdkit.Chem.rdchem.Mol object at 0x0000021C10CAEAB0>, <rdkit.Chem.rdchem.Mol object at 0x0000021C10CAEB20>, <rdkit.Chem.rdchem.Mol object at 0x0000021C10CAEB90>, <rdkit.Chem.rdchem.Mol object at 0x0000021C10CAEC00>, <rdkit.Chem.rdchem.Mol object at 0x0000021C10CAEC70>, <rdkit.Chem.rdchem.Mol object at 0x0000021C10CAECE0>, <rdkit.Chem.rdchem.Mol object at 0x0000021C10CAED50>, <rdkit.Chem.rdchem.Mol object at 0x0000021C10CAEDC0>, <rdkit.Chem.rdchem.Mol object at 0x0000021C10CAEE30>, <rdkit.Chem.rdchem.Mol object at 0x0000021C10CAEEA0>, <rdkit.Chem.rdchem.Mol object at 0x0000021C10CAEF10>, <rdkit.Chem.rdchem.Mol object at 0x0000021C10CAEF80>, <rdkit.Chem.rdchem.Mol object at 0x0000021C10CAEFF0>, <rdkit.Chem.rdchem.Mol object at 0x0000021C10CAF060>, <rdkit.Chem.rdchem.Mol object at 0x0000021C10CAF0D0>, <rdkit.Chem.rdchem.Mol object at 0x0000021C10CAF140>, <rdkit.Chem.rdchem.Mol object at 0x0000021C10CAF1B0>, <rdkit.Chem.rdchem.Mol object at 0x0000021C10CAF220>, <rdkit.Chem.rdchem.Mol object at 0x0000021C10CAF290>, <rdkit.Chem.rdchem.Mol object at 0x0000021C10CAF300>, <rdkit.Chem.rdchem.Mol object at 0x0000021C10CAF370>, <rdkit.Chem.rdchem.Mol object at 0x0000021C10CAF3E0>, <rdkit.Chem.rdchem.Mol object at 0x0000021C10CAF450>, <rdkit.Chem.rdchem.Mol object at 0x0000021C10CAF4C0>, <rdkit.Chem.rdchem.Mol object at 0x0000021C10CAF530>, <rdkit.Chem.rdchem.Mol object at 0x0000021C10CAF5A0>, <rdkit.Chem.rdchem.Mol object at 0x0000021C10CAF610>, <rdkit.Chem.rdchem.Mol object at 0x0000021C10CAF680>, <rdkit.Chem.rdchem.Mol object at 0x0000021C10CAF6F0>, <rdkit.Chem.rdchem.Mol object at 0x0000021C10CAF760>, <rdkit.Chem.rdchem.Mol object at 0x0000021C10CAF7D0>, <rdkit.Chem.rdchem.Mol object at 0x0000021C10CAF840>, <rdkit.Chem.rdchem.Mol object at 0x0000021C10CAF8B0>, <rdkit.Chem.rdchem.Mol object at 0x0000021C10CAF920>, <rdkit.Chem.rdchem.Mol object at 0x0000021C10CAF990>, <rdkit.Chem.rdchem.Mol object at 0x0000021C10CAFA00>, <rdkit.Chem.rdchem.Mol object at 0x0000021C10CAFA70>, <rdkit.Chem.rdchem.Mol object at 0x0000021C10CAFAE0>, <rdkit.Chem.rdchem.Mol object at 0x0000021C10CAFB50>, <rdkit.Chem.rdchem.Mol object at 0x0000021C10CAFBC0>, <rdkit.Chem.rdchem.Mol object at 0x0000021C10CAFC30>, <rdkit.Chem.rdchem.Mol object at 0x0000021C10CAFCA0>, <rdkit.Chem.rdchem.Mol object at 0x0000021C10CAFD10>, <rdkit.Chem.rdchem.Mol object at 0x0000021C10CAFD80>, <rdkit.Chem.rdchem.Mol object at 0x0000021C10CAFDF0>, <rdkit.Chem.rdchem.Mol object at 0x0000021C10CAFE60>, <rdkit.Chem.rdchem.Mol object at 0x0000021C10CAFED0>, <rdkit.Chem.rdchem.Mol object at 0x0000021C10CAFF40>, <rdkit.Chem.rdchem.Mol object at 0x0000021C10CB0040>, <rdkit.Chem.rdchem.Mol object at 0x0000021C10CB00B0>, <rdkit.Chem.rdchem.Mol object at 0x0000021C10CB0120>, <rdkit.Chem.rdchem.Mol object at 0x0000021C10CB0190>, <rdkit.Chem.rdchem.Mol object at 0x0000021C10CB0200>, <rdkit.Chem.rdchem.Mol object at 0x0000021C10CB0270>, <rdkit.Chem.rdchem.Mol object at 0x0000021C10CB02E0>, <rdkit.Chem.rdchem.Mol object at 0x0000021C10CB0350>, <rdkit.Chem.rdchem.Mol object at 0x0000021C10CB03C0>, <rdkit.Chem.rdchem.Mol object at 0x0000021C10CB0430>, <rdkit.Chem.rdchem.Mol object at 0x0000021C10CB04A0>, <rdkit.Chem.rdchem.Mol object at 0x0000021C10CB0510>, <rdkit.Chem.rdchem.Mol object at 0x0000021C10CB0580>, <rdkit.Chem.rdchem.Mol object at 0x0000021C10CB05F0>, <rdkit.Chem.rdchem.Mol object at 0x0000021C10CB0660>, <rdkit.Chem.rdchem.Mol object at 0x0000021C10CB06D0>, <rdkit.Chem.rdchem.Mol object at 0x0000021C10CB0740>, <rdkit.Chem.rdchem.Mol object at 0x0000021C10CB07B0>, <rdkit.Chem.rdchem.Mol object at 0x0000021C10CB0820>, <rdkit.Chem.rdchem.Mol object at 0x0000021C10CB0890>, <rdkit.Chem.rdchem.Mol object at 0x0000021C10CB0900>, <rdkit.Chem.rdchem.Mol object at 0x0000021C10CB0970>, <rdkit.Chem.rdchem.Mol object at 0x0000021C10CB09E0>, <rdkit.Chem.rdchem.Mol object at 0x0000021C10CB0A50>, <rdkit.Chem.rdchem.Mol object at 0x0000021C10CB0AC0>, <rdkit.Chem.rdchem.Mol object at 0x0000021C10CB0B30>, <rdkit.Chem.rdchem.Mol object at 0x0000021C10CB0BA0>, <rdkit.Chem.rdchem.Mol object at 0x0000021C10CB0C10>, <rdkit.Chem.rdchem.Mol object at 0x0000021C10CB0C80>, <rdkit.Chem.rdchem.Mol object at 0x0000021C10CB0CF0>, <rdkit.Chem.rdchem.Mol object at 0x0000021C10CB0D60>, <rdkit.Chem.rdchem.Mol object at 0x0000021C10CB0DD0>, <rdkit.Chem.rdchem.Mol object at 0x0000021C10CB0E40>, <rdkit.Chem.rdchem.Mol object at 0x0000021C10CB0EB0>, <rdkit.Chem.rdchem.Mol object at 0x0000021C10CB0F20>, <rdkit.Chem.rdchem.Mol object at 0x0000021C10CB0F90>, <rdkit.Chem.rdchem.Mol object at 0x0000021C10CB1000>, <rdkit.Chem.rdchem.Mol object at 0x0000021C10CB1070>, <rdkit.Chem.rdchem.Mol object at 0x0000021C10CB10E0>, <rdkit.Chem.rdchem.Mol object at 0x0000021C10CB1150>, <rdkit.Chem.rdchem.Mol object at 0x0000021C10CB11C0>, <rdkit.Chem.rdchem.Mol object at 0x0000021C10CB1230>, <rdkit.Chem.rdchem.Mol object at 0x0000021C10CB12A0>, <rdkit.Chem.rdchem.Mol object at 0x0000021C10CB1310>, <rdkit.Chem.rdchem.Mol object at 0x0000021C10CB1380>, <rdkit.Chem.rdchem.Mol object at 0x0000021C10CB13F0>, <rdkit.Chem.rdchem.Mol object at 0x0000021C10CB1460>, <rdkit.Chem.rdchem.Mol object at 0x0000021C10CB14D0>, <rdkit.Chem.rdchem.Mol object at 0x0000021C10CB1540>, <rdkit.Chem.rdchem.Mol object at 0x0000021C10CB15B0>, <rdkit.Chem.rdchem.Mol object at 0x0000021C10CB1620>, <rdkit.Chem.rdchem.Mol object at 0x0000021C10CB1690>, <rdkit.Chem.rdchem.Mol object at 0x0000021C10CB1700>, <rdkit.Chem.rdchem.Mol object at 0x0000021C10CB1770>, <rdkit.Chem.rdchem.Mol object at 0x0000021C10CB17E0>, <rdkit.Chem.rdchem.Mol object at 0x0000021C10CB1850>, <rdkit.Chem.rdchem.Mol object at 0x0000021C10CB18C0>, <rdkit.Chem.rdchem.Mol object at 0x0000021C10CB1930>, <rdkit.Chem.rdchem.Mol object at 0x0000021C10CB19A0>, <rdkit.Chem.rdchem.Mol object at 0x0000021C10CB1A10>, <rdkit.Chem.rdchem.Mol object at 0x0000021C10CB1A80>, <rdkit.Chem.rdchem.Mol object at 0x0000021C10CB1AF0>, <rdkit.Chem.rdchem.Mol object at 0x0000021C10CB1B60>, <rdkit.Chem.rdchem.Mol object at 0x0000021C10CB1BD0>, <rdkit.Chem.rdchem.Mol object at 0x0000021C10CB1C40>, <rdkit.Chem.rdchem.Mol object at 0x0000021C10CB1CB0>, <rdkit.Chem.rdchem.Mol object at 0x0000021C10CB1D20>, <rdkit.Chem.rdchem.Mol object at 0x0000021C10CB1D90>, <rdkit.Chem.rdchem.Mol object at 0x0000021C10CB1E00>, <rdkit.Chem.rdchem.Mol object at 0x0000021C10CB1E70>]\n"
     ]
    }
   ],
   "source": [
    "ligand_descriptors, descriptor_names = generate_rdkit_descriptors(bace_inhibitors['Ligand SMILES'])"
   ]
  },
  {
   "cell_type": "code",
   "execution_count": 30,
   "id": "645eb91b",
   "metadata": {},
   "outputs": [
    {
     "data": {
      "text/html": [
       "<div>\n",
       "<style scoped>\n",
       "    .dataframe tbody tr th:only-of-type {\n",
       "        vertical-align: middle;\n",
       "    }\n",
       "\n",
       "    .dataframe tbody tr th {\n",
       "        vertical-align: top;\n",
       "    }\n",
       "\n",
       "    .dataframe thead th {\n",
       "        text-align: right;\n",
       "    }\n",
       "</style>\n",
       "<table border=\"1\" class=\"dataframe\">\n",
       "  <thead>\n",
       "    <tr style=\"text-align: right;\">\n",
       "      <th></th>\n",
       "      <th>MaxAbsEStateIndex</th>\n",
       "      <th>MaxEStateIndex</th>\n",
       "      <th>MinAbsEStateIndex</th>\n",
       "      <th>MinEStateIndex</th>\n",
       "      <th>qed</th>\n",
       "      <th>MolWt</th>\n",
       "      <th>HeavyAtomMolWt</th>\n",
       "      <th>ExactMolWt</th>\n",
       "      <th>NumValenceElectrons</th>\n",
       "      <th>NumRadicalElectrons</th>\n",
       "      <th>...</th>\n",
       "      <th>fr_sulfide</th>\n",
       "      <th>fr_sulfonamd</th>\n",
       "      <th>fr_sulfone</th>\n",
       "      <th>fr_term_acetylene</th>\n",
       "      <th>fr_tetrazole</th>\n",
       "      <th>fr_thiazole</th>\n",
       "      <th>fr_thiocyan</th>\n",
       "      <th>fr_thiophene</th>\n",
       "      <th>fr_unbrch_alkane</th>\n",
       "      <th>fr_urea</th>\n",
       "    </tr>\n",
       "  </thead>\n",
       "  <tbody>\n",
       "    <tr>\n",
       "      <th>0</th>\n",
       "      <td>12.142662</td>\n",
       "      <td>12.142662</td>\n",
       "      <td>0.540127</td>\n",
       "      <td>-1.601878</td>\n",
       "      <td>0.341105</td>\n",
       "      <td>481.298</td>\n",
       "      <td>464.162</td>\n",
       "      <td>480.020850</td>\n",
       "      <td>156</td>\n",
       "      <td>0</td>\n",
       "      <td>...</td>\n",
       "      <td>0</td>\n",
       "      <td>0</td>\n",
       "      <td>0</td>\n",
       "      <td>0</td>\n",
       "      <td>0</td>\n",
       "      <td>0</td>\n",
       "      <td>0</td>\n",
       "      <td>0</td>\n",
       "      <td>0</td>\n",
       "      <td>0</td>\n",
       "    </tr>\n",
       "    <tr>\n",
       "      <th>1</th>\n",
       "      <td>12.142662</td>\n",
       "      <td>12.142662</td>\n",
       "      <td>0.540127</td>\n",
       "      <td>-1.601878</td>\n",
       "      <td>0.341105</td>\n",
       "      <td>481.298</td>\n",
       "      <td>464.162</td>\n",
       "      <td>480.020850</td>\n",
       "      <td>156</td>\n",
       "      <td>0</td>\n",
       "      <td>...</td>\n",
       "      <td>0</td>\n",
       "      <td>0</td>\n",
       "      <td>0</td>\n",
       "      <td>0</td>\n",
       "      <td>0</td>\n",
       "      <td>0</td>\n",
       "      <td>0</td>\n",
       "      <td>0</td>\n",
       "      <td>0</td>\n",
       "      <td>0</td>\n",
       "    </tr>\n",
       "    <tr>\n",
       "      <th>2</th>\n",
       "      <td>12.064142</td>\n",
       "      <td>12.064142</td>\n",
       "      <td>0.761169</td>\n",
       "      <td>-1.562466</td>\n",
       "      <td>0.207180</td>\n",
       "      <td>482.452</td>\n",
       "      <td>464.308</td>\n",
       "      <td>482.122634</td>\n",
       "      <td>178</td>\n",
       "      <td>0</td>\n",
       "      <td>...</td>\n",
       "      <td>0</td>\n",
       "      <td>0</td>\n",
       "      <td>0</td>\n",
       "      <td>0</td>\n",
       "      <td>0</td>\n",
       "      <td>0</td>\n",
       "      <td>0</td>\n",
       "      <td>0</td>\n",
       "      <td>0</td>\n",
       "      <td>0</td>\n",
       "    </tr>\n",
       "    <tr>\n",
       "      <th>3</th>\n",
       "      <td>12.400966</td>\n",
       "      <td>12.400966</td>\n",
       "      <td>0.466225</td>\n",
       "      <td>-3.331026</td>\n",
       "      <td>0.259569</td>\n",
       "      <td>556.352</td>\n",
       "      <td>535.184</td>\n",
       "      <td>556.038286</td>\n",
       "      <td>168</td>\n",
       "      <td>0</td>\n",
       "      <td>...</td>\n",
       "      <td>0</td>\n",
       "      <td>0</td>\n",
       "      <td>0</td>\n",
       "      <td>0</td>\n",
       "      <td>0</td>\n",
       "      <td>0</td>\n",
       "      <td>0</td>\n",
       "      <td>0</td>\n",
       "      <td>0</td>\n",
       "      <td>0</td>\n",
       "    </tr>\n",
       "    <tr>\n",
       "      <th>4</th>\n",
       "      <td>12.142662</td>\n",
       "      <td>12.142662</td>\n",
       "      <td>0.540127</td>\n",
       "      <td>-1.601878</td>\n",
       "      <td>0.341105</td>\n",
       "      <td>481.298</td>\n",
       "      <td>464.162</td>\n",
       "      <td>480.020850</td>\n",
       "      <td>156</td>\n",
       "      <td>0</td>\n",
       "      <td>...</td>\n",
       "      <td>0</td>\n",
       "      <td>0</td>\n",
       "      <td>0</td>\n",
       "      <td>0</td>\n",
       "      <td>0</td>\n",
       "      <td>0</td>\n",
       "      <td>0</td>\n",
       "      <td>0</td>\n",
       "      <td>0</td>\n",
       "      <td>0</td>\n",
       "    </tr>\n",
       "    <tr>\n",
       "      <th>...</th>\n",
       "      <td>...</td>\n",
       "      <td>...</td>\n",
       "      <td>...</td>\n",
       "      <td>...</td>\n",
       "      <td>...</td>\n",
       "      <td>...</td>\n",
       "      <td>...</td>\n",
       "      <td>...</td>\n",
       "      <td>...</td>\n",
       "      <td>...</td>\n",
       "      <td>...</td>\n",
       "      <td>...</td>\n",
       "      <td>...</td>\n",
       "      <td>...</td>\n",
       "      <td>...</td>\n",
       "      <td>...</td>\n",
       "      <td>...</td>\n",
       "      <td>...</td>\n",
       "      <td>...</td>\n",
       "      <td>...</td>\n",
       "      <td>...</td>\n",
       "    </tr>\n",
       "    <tr>\n",
       "      <th>344</th>\n",
       "      <td>8.324513</td>\n",
       "      <td>8.324513</td>\n",
       "      <td>0.313384</td>\n",
       "      <td>-3.496620</td>\n",
       "      <td>0.683595</td>\n",
       "      <td>318.464</td>\n",
       "      <td>292.256</td>\n",
       "      <td>318.209599</td>\n",
       "      <td>124</td>\n",
       "      <td>0</td>\n",
       "      <td>...</td>\n",
       "      <td>0</td>\n",
       "      <td>0</td>\n",
       "      <td>0</td>\n",
       "      <td>0</td>\n",
       "      <td>0</td>\n",
       "      <td>0</td>\n",
       "      <td>0</td>\n",
       "      <td>0</td>\n",
       "      <td>0</td>\n",
       "      <td>0</td>\n",
       "    </tr>\n",
       "    <tr>\n",
       "      <th>345</th>\n",
       "      <td>13.693231</td>\n",
       "      <td>13.693231</td>\n",
       "      <td>1.158710</td>\n",
       "      <td>-4.384810</td>\n",
       "      <td>0.552430</td>\n",
       "      <td>252.285</td>\n",
       "      <td>235.149</td>\n",
       "      <td>252.116173</td>\n",
       "      <td>98</td>\n",
       "      <td>0</td>\n",
       "      <td>...</td>\n",
       "      <td>0</td>\n",
       "      <td>0</td>\n",
       "      <td>0</td>\n",
       "      <td>0</td>\n",
       "      <td>0</td>\n",
       "      <td>0</td>\n",
       "      <td>0</td>\n",
       "      <td>0</td>\n",
       "      <td>0</td>\n",
       "      <td>0</td>\n",
       "    </tr>\n",
       "    <tr>\n",
       "      <th>346</th>\n",
       "      <td>11.974850</td>\n",
       "      <td>11.974850</td>\n",
       "      <td>0.475639</td>\n",
       "      <td>-3.746287</td>\n",
       "      <td>0.417437</td>\n",
       "      <td>299.282</td>\n",
       "      <td>286.178</td>\n",
       "      <td>299.079373</td>\n",
       "      <td>112</td>\n",
       "      <td>0</td>\n",
       "      <td>...</td>\n",
       "      <td>0</td>\n",
       "      <td>0</td>\n",
       "      <td>0</td>\n",
       "      <td>0</td>\n",
       "      <td>0</td>\n",
       "      <td>0</td>\n",
       "      <td>0</td>\n",
       "      <td>0</td>\n",
       "      <td>0</td>\n",
       "      <td>0</td>\n",
       "    </tr>\n",
       "    <tr>\n",
       "      <th>347</th>\n",
       "      <td>8.258090</td>\n",
       "      <td>8.258090</td>\n",
       "      <td>0.102040</td>\n",
       "      <td>-3.428397</td>\n",
       "      <td>0.772520</td>\n",
       "      <td>353.203</td>\n",
       "      <td>337.075</td>\n",
       "      <td>353.027662</td>\n",
       "      <td>94</td>\n",
       "      <td>0</td>\n",
       "      <td>...</td>\n",
       "      <td>0</td>\n",
       "      <td>0</td>\n",
       "      <td>0</td>\n",
       "      <td>0</td>\n",
       "      <td>0</td>\n",
       "      <td>0</td>\n",
       "      <td>0</td>\n",
       "      <td>0</td>\n",
       "      <td>0</td>\n",
       "      <td>0</td>\n",
       "    </tr>\n",
       "    <tr>\n",
       "      <th>348</th>\n",
       "      <td>13.641451</td>\n",
       "      <td>13.641451</td>\n",
       "      <td>1.267683</td>\n",
       "      <td>-4.275906</td>\n",
       "      <td>0.542318</td>\n",
       "      <td>280.295</td>\n",
       "      <td>263.159</td>\n",
       "      <td>280.111087</td>\n",
       "      <td>108</td>\n",
       "      <td>0</td>\n",
       "      <td>...</td>\n",
       "      <td>0</td>\n",
       "      <td>0</td>\n",
       "      <td>0</td>\n",
       "      <td>0</td>\n",
       "      <td>0</td>\n",
       "      <td>0</td>\n",
       "      <td>0</td>\n",
       "      <td>0</td>\n",
       "      <td>0</td>\n",
       "      <td>0</td>\n",
       "    </tr>\n",
       "  </tbody>\n",
       "</table>\n",
       "<p>349 rows × 209 columns</p>\n",
       "</div>"
      ],
      "text/plain": [
       "     MaxAbsEStateIndex  MaxEStateIndex  MinAbsEStateIndex  MinEStateIndex  \\\n",
       "0            12.142662       12.142662           0.540127       -1.601878   \n",
       "1            12.142662       12.142662           0.540127       -1.601878   \n",
       "2            12.064142       12.064142           0.761169       -1.562466   \n",
       "3            12.400966       12.400966           0.466225       -3.331026   \n",
       "4            12.142662       12.142662           0.540127       -1.601878   \n",
       "..                 ...             ...                ...             ...   \n",
       "344           8.324513        8.324513           0.313384       -3.496620   \n",
       "345          13.693231       13.693231           1.158710       -4.384810   \n",
       "346          11.974850       11.974850           0.475639       -3.746287   \n",
       "347           8.258090        8.258090           0.102040       -3.428397   \n",
       "348          13.641451       13.641451           1.267683       -4.275906   \n",
       "\n",
       "          qed    MolWt  HeavyAtomMolWt  ExactMolWt  NumValenceElectrons  \\\n",
       "0    0.341105  481.298         464.162  480.020850                  156   \n",
       "1    0.341105  481.298         464.162  480.020850                  156   \n",
       "2    0.207180  482.452         464.308  482.122634                  178   \n",
       "3    0.259569  556.352         535.184  556.038286                  168   \n",
       "4    0.341105  481.298         464.162  480.020850                  156   \n",
       "..        ...      ...             ...         ...                  ...   \n",
       "344  0.683595  318.464         292.256  318.209599                  124   \n",
       "345  0.552430  252.285         235.149  252.116173                   98   \n",
       "346  0.417437  299.282         286.178  299.079373                  112   \n",
       "347  0.772520  353.203         337.075  353.027662                   94   \n",
       "348  0.542318  280.295         263.159  280.111087                  108   \n",
       "\n",
       "     NumRadicalElectrons  ...  fr_sulfide  fr_sulfonamd  fr_sulfone  \\\n",
       "0                      0  ...           0             0           0   \n",
       "1                      0  ...           0             0           0   \n",
       "2                      0  ...           0             0           0   \n",
       "3                      0  ...           0             0           0   \n",
       "4                      0  ...           0             0           0   \n",
       "..                   ...  ...         ...           ...         ...   \n",
       "344                    0  ...           0             0           0   \n",
       "345                    0  ...           0             0           0   \n",
       "346                    0  ...           0             0           0   \n",
       "347                    0  ...           0             0           0   \n",
       "348                    0  ...           0             0           0   \n",
       "\n",
       "     fr_term_acetylene  fr_tetrazole  fr_thiazole  fr_thiocyan  fr_thiophene  \\\n",
       "0                    0             0            0            0             0   \n",
       "1                    0             0            0            0             0   \n",
       "2                    0             0            0            0             0   \n",
       "3                    0             0            0            0             0   \n",
       "4                    0             0            0            0             0   \n",
       "..                 ...           ...          ...          ...           ...   \n",
       "344                  0             0            0            0             0   \n",
       "345                  0             0            0            0             0   \n",
       "346                  0             0            0            0             0   \n",
       "347                  0             0            0            0             0   \n",
       "348                  0             0            0            0             0   \n",
       "\n",
       "     fr_unbrch_alkane  fr_urea  \n",
       "0                   0        0  \n",
       "1                   0        0  \n",
       "2                   0        0  \n",
       "3                   0        0  \n",
       "4                   0        0  \n",
       "..                ...      ...  \n",
       "344                 0        0  \n",
       "345                 0        0  \n",
       "346                 0        0  \n",
       "347                 0        0  \n",
       "348                 0        0  \n",
       "\n",
       "[349 rows x 209 columns]"
      ]
     },
     "execution_count": 30,
     "metadata": {},
     "output_type": "execute_result"
    }
   ],
   "source": [
    "descriptor_df = pd.DataFrame(ligand_descriptors, columns = descriptor_names)\n",
    "descriptor_df"
   ]
  },
  {
   "cell_type": "code",
   "execution_count": 41,
   "id": "7bc7f5e4",
   "metadata": {},
   "outputs": [
    {
     "data": {
      "text/plain": [
       "(349, 215)"
      ]
     },
     "execution_count": 41,
     "metadata": {},
     "output_type": "execute_result"
    }
   ],
   "source": [
    "import pandas as pd\n",
    "\n",
    "bace_inhibitors = pd.read_csv('clean_bace_inhibitors.csv')\n",
    "bace_inhibitors\n",
    "\n",
    "combined_bace_inhibitors = pd.concat([bace_inhibitors, descriptor_df], axis=1)\n",
    "combined_bace_inhibitors.to_csv('combined_bace_inhibitors_ki_and_rdkit_descriptors.csv', index=False)\n",
    "combined_bace_inhibitors.shape\n"
   ]
  },
  {
   "cell_type": "markdown",
   "id": "b50659d1",
   "metadata": {},
   "source": [
    "### Mordred descriptors"
   ]
  },
  {
   "cell_type": "code",
   "execution_count": 62,
   "id": "fdecec54",
   "metadata": {},
   "outputs": [
    {
     "data": {
      "text/plain": [
       "(349, 6)"
      ]
     },
     "execution_count": 62,
     "metadata": {},
     "output_type": "execute_result"
    }
   ],
   "source": [
    "import pandas as pd\n",
    "\n",
    "bace_inhibitors = pd.read_csv('clean_bace_inhibitors.csv')\n",
    "bace_inhibitors.shape"
   ]
  },
  {
   "cell_type": "code",
   "execution_count": 46,
   "id": "9ade5a91",
   "metadata": {},
   "outputs": [
    {
     "data": {
      "text/plain": [
       "1613"
      ]
     },
     "execution_count": 46,
     "metadata": {},
     "output_type": "execute_result"
    }
   ],
   "source": [
    "from mordred import Calculator, descriptors\n",
    "calc = Calculator(descriptors, ignore_3D=False)\n",
    "len(calc)\n"
   ]
  },
  {
   "cell_type": "code",
   "execution_count": 56,
   "id": "472adcb1",
   "metadata": {},
   "outputs": [],
   "source": [
    "from mordred import Calculator, descriptors\n",
    "from rdkit import Chem\n",
    "\n",
    "def generate_mordred_descriptors(smile_molecules):\n",
    "    \n",
    "    # generate molecules from rdkit\n",
    "    ligands = [Chem.MolFromSmiles(smile) for smile in smile_molecules]\n",
    "          \n",
    "    # generate descriptors\n",
    "    calc = Calculator(descriptors, ignore_3D=False)\n",
    "    \n",
    "    return calc.pandas(ligands)"
   ]
  },
  {
   "cell_type": "code",
   "execution_count": 57,
   "id": "a3a887c9",
   "metadata": {},
   "outputs": [
    {
     "name": "stderr",
     "output_type": "stream",
     "text": [
      " 20%|██████████████████▌                                                                           | 69/349 [00:05<00:20, 13.82it/s]"
     ]
    },
    {
     "name": "stdout",
     "output_type": "stream",
     "text": [
      "C:\\Users\\adewa\\anaconda3\\lib\\site-packages\\numpy\\core\\fromnumeric.py:86: RuntimeWarning: overflow encountered in reduce\n",
      "  return ufunc.reduce(obj, axis, dtype, out, **passkwargs)\n",
      "C:\\Users\\adewa\\anaconda3\\lib\\site-packages\\numpy\\core\\fromnumeric.py:86: RuntimeWarning: overflow encountered in reduce\n",
      "  return ufunc.reduce(obj, axis, dtype, out, **passkwargs)\n"
     ]
    },
    {
     "name": "stderr",
     "output_type": "stream",
     "text": [
      " 32%|██████████████████████████████                                                               | 113/349 [00:10<00:48,  4.84it/s]"
     ]
    },
    {
     "name": "stdout",
     "output_type": "stream",
     "text": [
      "C:\\Users\\adewa\\anaconda3\\lib\\site-packages\\numpy\\core\\fromnumeric.py:86: RuntimeWarning: overflow encountered in reduce\n",
      "  return ufunc.reduce(obj, axis, dtype, out, **passkwargs)\n"
     ]
    },
    {
     "name": "stderr",
     "output_type": "stream",
     "text": [
      " 43%|███████████████████████████████████████▋                                                     | 149/349 [00:11<00:15, 12.85it/s]"
     ]
    },
    {
     "name": "stdout",
     "output_type": "stream",
     "text": [
      "C:\\Users\\adewa\\anaconda3\\lib\\site-packages\\numpy\\core\\fromnumeric.py:86: RuntimeWarning: overflow encountered in reduce\n",
      "  return ufunc.reduce(obj, axis, dtype, out, **passkwargs)\n"
     ]
    },
    {
     "name": "stderr",
     "output_type": "stream",
     "text": [
      " 48%|████████████████████████████████████████████▊                                                | 168/349 [00:13<00:18, 10.05it/s]"
     ]
    },
    {
     "name": "stdout",
     "output_type": "stream",
     "text": [
      "C:\\Users\\adewa\\anaconda3\\lib\\site-packages\\numpy\\core\\fromnumeric.py:86: RuntimeWarning: overflow encountered in reduce\n",
      "  return ufunc.reduce(obj, axis, dtype, out, **passkwargs)\n"
     ]
    },
    {
     "name": "stderr",
     "output_type": "stream",
     "text": [
      " 66%|█████████████████████████████████████████████████████████████▎                               | 230/349 [00:19<00:13,  9.01it/s]"
     ]
    },
    {
     "name": "stdout",
     "output_type": "stream",
     "text": [
      "C:\\Users\\adewa\\anaconda3\\lib\\site-packages\\numpy\\core\\fromnumeric.py:86: RuntimeWarning: overflow encountered in reduce\n",
      "  return ufunc.reduce(obj, axis, dtype, out, **passkwargs)\n"
     ]
    },
    {
     "name": "stderr",
     "output_type": "stream",
     "text": [
      "100%|█████████████████████████████████████████████████████████████████████████████████████████████| 349/349 [00:34<00:00, 10.14it/s]\n"
     ]
    },
    {
     "data": {
      "text/html": [
       "<div>\n",
       "<style scoped>\n",
       "    .dataframe tbody tr th:only-of-type {\n",
       "        vertical-align: middle;\n",
       "    }\n",
       "\n",
       "    .dataframe tbody tr th {\n",
       "        vertical-align: top;\n",
       "    }\n",
       "\n",
       "    .dataframe thead th {\n",
       "        text-align: right;\n",
       "    }\n",
       "</style>\n",
       "<table border=\"1\" class=\"dataframe\">\n",
       "  <thead>\n",
       "    <tr style=\"text-align: right;\">\n",
       "      <th></th>\n",
       "      <th>ABC</th>\n",
       "      <th>ABCGG</th>\n",
       "      <th>nAcid</th>\n",
       "      <th>nBase</th>\n",
       "      <th>SpAbs_A</th>\n",
       "      <th>SpMax_A</th>\n",
       "      <th>SpDiam_A</th>\n",
       "      <th>SpAD_A</th>\n",
       "      <th>SpMAD_A</th>\n",
       "      <th>LogEE_A</th>\n",
       "      <th>...</th>\n",
       "      <th>SRW10</th>\n",
       "      <th>TSRW10</th>\n",
       "      <th>MW</th>\n",
       "      <th>AMW</th>\n",
       "      <th>WPath</th>\n",
       "      <th>WPol</th>\n",
       "      <th>Zagreb1</th>\n",
       "      <th>Zagreb2</th>\n",
       "      <th>mZagreb1</th>\n",
       "      <th>mZagreb2</th>\n",
       "    </tr>\n",
       "  </thead>\n",
       "  <tbody>\n",
       "    <tr>\n",
       "      <th>0</th>\n",
       "      <td>23.898052</td>\n",
       "      <td>17.722337</td>\n",
       "      <td>2</td>\n",
       "      <td>0</td>\n",
       "      <td>38.786181</td>\n",
       "      <td>2.352319</td>\n",
       "      <td>4.704637</td>\n",
       "      <td>38.786181</td>\n",
       "      <td>1.251167</td>\n",
       "      <td>4.345471</td>\n",
       "      <td>...</td>\n",
       "      <td>10.246616</td>\n",
       "      <td>66.622526</td>\n",
       "      <td>480.020850</td>\n",
       "      <td>10.000434</td>\n",
       "      <td>3302</td>\n",
       "      <td>48</td>\n",
       "      <td>158.0</td>\n",
       "      <td>182.0</td>\n",
       "      <td>11.472222</td>\n",
       "      <td>6.805556</td>\n",
       "    </tr>\n",
       "    <tr>\n",
       "      <th>1</th>\n",
       "      <td>23.898052</td>\n",
       "      <td>17.722337</td>\n",
       "      <td>2</td>\n",
       "      <td>0</td>\n",
       "      <td>38.786181</td>\n",
       "      <td>2.352319</td>\n",
       "      <td>4.704637</td>\n",
       "      <td>38.786181</td>\n",
       "      <td>1.251167</td>\n",
       "      <td>4.345471</td>\n",
       "      <td>...</td>\n",
       "      <td>10.246616</td>\n",
       "      <td>66.622526</td>\n",
       "      <td>480.020850</td>\n",
       "      <td>10.000434</td>\n",
       "      <td>3302</td>\n",
       "      <td>48</td>\n",
       "      <td>158.0</td>\n",
       "      <td>182.0</td>\n",
       "      <td>11.472222</td>\n",
       "      <td>6.805556</td>\n",
       "    </tr>\n",
       "    <tr>\n",
       "      <th>2</th>\n",
       "      <td>28.031303</td>\n",
       "      <td>18.801352</td>\n",
       "      <td>2</td>\n",
       "      <td>0</td>\n",
       "      <td>46.231486</td>\n",
       "      <td>2.354504</td>\n",
       "      <td>4.709008</td>\n",
       "      <td>46.231486</td>\n",
       "      <td>1.284208</td>\n",
       "      <td>4.502712</td>\n",
       "      <td>...</td>\n",
       "      <td>10.399981</td>\n",
       "      <td>72.422166</td>\n",
       "      <td>482.122634</td>\n",
       "      <td>8.928197</td>\n",
       "      <td>5336</td>\n",
       "      <td>56</td>\n",
       "      <td>186.0</td>\n",
       "      <td>215.0</td>\n",
       "      <td>11.833333</td>\n",
       "      <td>7.888889</td>\n",
       "    </tr>\n",
       "    <tr>\n",
       "      <th>3</th>\n",
       "      <td>25.093486</td>\n",
       "      <td>18.643069</td>\n",
       "      <td>2</td>\n",
       "      <td>0</td>\n",
       "      <td>41.841513</td>\n",
       "      <td>2.361244</td>\n",
       "      <td>4.722488</td>\n",
       "      <td>41.841513</td>\n",
       "      <td>1.267925</td>\n",
       "      <td>4.403148</td>\n",
       "      <td>...</td>\n",
       "      <td>10.299273</td>\n",
       "      <td>68.872284</td>\n",
       "      <td>556.038286</td>\n",
       "      <td>10.297005</td>\n",
       "      <td>3932</td>\n",
       "      <td>52</td>\n",
       "      <td>166.0</td>\n",
       "      <td>192.0</td>\n",
       "      <td>11.972222</td>\n",
       "      <td>7.472222</td>\n",
       "    </tr>\n",
       "    <tr>\n",
       "      <th>4</th>\n",
       "      <td>23.898052</td>\n",
       "      <td>17.722337</td>\n",
       "      <td>2</td>\n",
       "      <td>0</td>\n",
       "      <td>38.786181</td>\n",
       "      <td>2.352319</td>\n",
       "      <td>4.704637</td>\n",
       "      <td>38.786181</td>\n",
       "      <td>1.251167</td>\n",
       "      <td>4.345471</td>\n",
       "      <td>...</td>\n",
       "      <td>10.246616</td>\n",
       "      <td>66.622526</td>\n",
       "      <td>480.020850</td>\n",
       "      <td>10.000434</td>\n",
       "      <td>3302</td>\n",
       "      <td>48</td>\n",
       "      <td>158.0</td>\n",
       "      <td>182.0</td>\n",
       "      <td>11.472222</td>\n",
       "      <td>6.805556</td>\n",
       "    </tr>\n",
       "    <tr>\n",
       "      <th>...</th>\n",
       "      <td>...</td>\n",
       "      <td>...</td>\n",
       "      <td>...</td>\n",
       "      <td>...</td>\n",
       "      <td>...</td>\n",
       "      <td>...</td>\n",
       "      <td>...</td>\n",
       "      <td>...</td>\n",
       "      <td>...</td>\n",
       "      <td>...</td>\n",
       "      <td>...</td>\n",
       "      <td>...</td>\n",
       "      <td>...</td>\n",
       "      <td>...</td>\n",
       "      <td>...</td>\n",
       "      <td>...</td>\n",
       "      <td>...</td>\n",
       "      <td>...</td>\n",
       "      <td>...</td>\n",
       "      <td>...</td>\n",
       "      <td>...</td>\n",
       "    </tr>\n",
       "    <tr>\n",
       "      <th>344</th>\n",
       "      <td>18.034348</td>\n",
       "      <td>13.285507</td>\n",
       "      <td>0</td>\n",
       "      <td>0</td>\n",
       "      <td>30.331531</td>\n",
       "      <td>2.263370</td>\n",
       "      <td>4.526739</td>\n",
       "      <td>30.331531</td>\n",
       "      <td>1.263814</td>\n",
       "      <td>4.069893</td>\n",
       "      <td>...</td>\n",
       "      <td>9.695294</td>\n",
       "      <td>57.578011</td>\n",
       "      <td>318.209599</td>\n",
       "      <td>6.364192</td>\n",
       "      <td>1846</td>\n",
       "      <td>31</td>\n",
       "      <td>114.0</td>\n",
       "      <td>126.0</td>\n",
       "      <td>8.166667</td>\n",
       "      <td>5.472222</td>\n",
       "    </tr>\n",
       "    <tr>\n",
       "      <th>345</th>\n",
       "      <td>12.906262</td>\n",
       "      <td>11.231958</td>\n",
       "      <td>0</td>\n",
       "      <td>0</td>\n",
       "      <td>22.144514</td>\n",
       "      <td>2.316799</td>\n",
       "      <td>4.633597</td>\n",
       "      <td>22.144514</td>\n",
       "      <td>1.230251</td>\n",
       "      <td>3.759697</td>\n",
       "      <td>...</td>\n",
       "      <td>9.313529</td>\n",
       "      <td>49.733700</td>\n",
       "      <td>252.116173</td>\n",
       "      <td>7.203319</td>\n",
       "      <td>704</td>\n",
       "      <td>22</td>\n",
       "      <td>80.0</td>\n",
       "      <td>87.0</td>\n",
       "      <td>6.944444</td>\n",
       "      <td>4.361111</td>\n",
       "    </tr>\n",
       "    <tr>\n",
       "      <th>346</th>\n",
       "      <td>17.217852</td>\n",
       "      <td>12.602268</td>\n",
       "      <td>0</td>\n",
       "      <td>0</td>\n",
       "      <td>28.287891</td>\n",
       "      <td>2.443002</td>\n",
       "      <td>4.886004</td>\n",
       "      <td>28.287891</td>\n",
       "      <td>1.285813</td>\n",
       "      <td>4.020533</td>\n",
       "      <td>...</td>\n",
       "      <td>9.959348</td>\n",
       "      <td>56.047219</td>\n",
       "      <td>299.079373</td>\n",
       "      <td>8.545125</td>\n",
       "      <td>1191</td>\n",
       "      <td>32</td>\n",
       "      <td>114.0</td>\n",
       "      <td>131.0</td>\n",
       "      <td>6.777778</td>\n",
       "      <td>4.805556</td>\n",
       "    </tr>\n",
       "    <tr>\n",
       "      <th>347</th>\n",
       "      <td>13.722758</td>\n",
       "      <td>11.139535</td>\n",
       "      <td>0</td>\n",
       "      <td>0</td>\n",
       "      <td>22.853672</td>\n",
       "      <td>2.285395</td>\n",
       "      <td>4.570790</td>\n",
       "      <td>22.853672</td>\n",
       "      <td>1.269648</td>\n",
       "      <td>3.798861</td>\n",
       "      <td>...</td>\n",
       "      <td>9.499197</td>\n",
       "      <td>50.416113</td>\n",
       "      <td>353.027662</td>\n",
       "      <td>10.383167</td>\n",
       "      <td>691</td>\n",
       "      <td>23</td>\n",
       "      <td>88.0</td>\n",
       "      <td>98.0</td>\n",
       "      <td>6.055556</td>\n",
       "      <td>4.027778</td>\n",
       "    </tr>\n",
       "    <tr>\n",
       "      <th>348</th>\n",
       "      <td>14.429865</td>\n",
       "      <td>12.465471</td>\n",
       "      <td>0</td>\n",
       "      <td>0</td>\n",
       "      <td>24.405468</td>\n",
       "      <td>2.318120</td>\n",
       "      <td>4.636240</td>\n",
       "      <td>24.405468</td>\n",
       "      <td>1.220273</td>\n",
       "      <td>3.865092</td>\n",
       "      <td>...</td>\n",
       "      <td>9.439148</td>\n",
       "      <td>52.340589</td>\n",
       "      <td>280.111087</td>\n",
       "      <td>7.570570</td>\n",
       "      <td>957</td>\n",
       "      <td>25</td>\n",
       "      <td>90.0</td>\n",
       "      <td>98.0</td>\n",
       "      <td>8.055556</td>\n",
       "      <td>4.777778</td>\n",
       "    </tr>\n",
       "  </tbody>\n",
       "</table>\n",
       "<p>349 rows × 1826 columns</p>\n",
       "</div>"
      ],
      "text/plain": [
       "           ABC      ABCGG  nAcid  nBase    SpAbs_A   SpMax_A  SpDiam_A  \\\n",
       "0    23.898052  17.722337      2      0  38.786181  2.352319  4.704637   \n",
       "1    23.898052  17.722337      2      0  38.786181  2.352319  4.704637   \n",
       "2    28.031303  18.801352      2      0  46.231486  2.354504  4.709008   \n",
       "3    25.093486  18.643069      2      0  41.841513  2.361244  4.722488   \n",
       "4    23.898052  17.722337      2      0  38.786181  2.352319  4.704637   \n",
       "..         ...        ...    ...    ...        ...       ...       ...   \n",
       "344  18.034348  13.285507      0      0  30.331531  2.263370  4.526739   \n",
       "345  12.906262  11.231958      0      0  22.144514  2.316799  4.633597   \n",
       "346  17.217852  12.602268      0      0  28.287891  2.443002  4.886004   \n",
       "347  13.722758  11.139535      0      0  22.853672  2.285395  4.570790   \n",
       "348  14.429865  12.465471      0      0  24.405468  2.318120  4.636240   \n",
       "\n",
       "        SpAD_A   SpMAD_A   LogEE_A  ...      SRW10     TSRW10          MW  \\\n",
       "0    38.786181  1.251167  4.345471  ...  10.246616  66.622526  480.020850   \n",
       "1    38.786181  1.251167  4.345471  ...  10.246616  66.622526  480.020850   \n",
       "2    46.231486  1.284208  4.502712  ...  10.399981  72.422166  482.122634   \n",
       "3    41.841513  1.267925  4.403148  ...  10.299273  68.872284  556.038286   \n",
       "4    38.786181  1.251167  4.345471  ...  10.246616  66.622526  480.020850   \n",
       "..         ...       ...       ...  ...        ...        ...         ...   \n",
       "344  30.331531  1.263814  4.069893  ...   9.695294  57.578011  318.209599   \n",
       "345  22.144514  1.230251  3.759697  ...   9.313529  49.733700  252.116173   \n",
       "346  28.287891  1.285813  4.020533  ...   9.959348  56.047219  299.079373   \n",
       "347  22.853672  1.269648  3.798861  ...   9.499197  50.416113  353.027662   \n",
       "348  24.405468  1.220273  3.865092  ...   9.439148  52.340589  280.111087   \n",
       "\n",
       "           AMW  WPath  WPol  Zagreb1  Zagreb2   mZagreb1  mZagreb2  \n",
       "0    10.000434   3302    48    158.0    182.0  11.472222  6.805556  \n",
       "1    10.000434   3302    48    158.0    182.0  11.472222  6.805556  \n",
       "2     8.928197   5336    56    186.0    215.0  11.833333  7.888889  \n",
       "3    10.297005   3932    52    166.0    192.0  11.972222  7.472222  \n",
       "4    10.000434   3302    48    158.0    182.0  11.472222  6.805556  \n",
       "..         ...    ...   ...      ...      ...        ...       ...  \n",
       "344   6.364192   1846    31    114.0    126.0   8.166667  5.472222  \n",
       "345   7.203319    704    22     80.0     87.0   6.944444  4.361111  \n",
       "346   8.545125   1191    32    114.0    131.0   6.777778  4.805556  \n",
       "347  10.383167    691    23     88.0     98.0   6.055556  4.027778  \n",
       "348   7.570570    957    25     90.0     98.0   8.055556  4.777778  \n",
       "\n",
       "[349 rows x 1826 columns]"
      ]
     },
     "execution_count": 57,
     "metadata": {},
     "output_type": "execute_result"
    }
   ],
   "source": [
    "mordered_desc = generate_mordred_descriptors(bace_inhibitors['Ligand SMILES'])\n",
    "mordered_desc"
   ]
  },
  {
   "cell_type": "code",
   "execution_count": 58,
   "id": "10d21b45",
   "metadata": {},
   "outputs": [
    {
     "data": {
      "text/plain": [
       "(349, 1832)"
      ]
     },
     "execution_count": 58,
     "metadata": {},
     "output_type": "execute_result"
    }
   ],
   "source": [
    "combined_bace_inhibitors = pd.concat([bace_inhibitors, mordered_desc], axis=1)\n",
    "combined_bace_inhibitors.to_csv('combined_bace_inhibitors_ki_and_mordred_descriptors.csv', index=False)\n",
    "combined_bace_inhibitors.shape\n"
   ]
  }
 ],
 "metadata": {
  "kernelspec": {
   "display_name": "Python 3 (ipykernel)",
   "language": "python",
   "name": "python3"
  },
  "language_info": {
   "codemirror_mode": {
    "name": "ipython",
    "version": 3
   },
   "file_extension": ".py",
   "mimetype": "text/x-python",
   "name": "python",
   "nbconvert_exporter": "python",
   "pygments_lexer": "ipython3",
   "version": "3.10.9"
  }
 },
 "nbformat": 4,
 "nbformat_minor": 5
}
