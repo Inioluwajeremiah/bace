{
 "cells": [
  {
   "cell_type": "code",
   "execution_count": 4,
   "id": "74974965",
   "metadata": {},
   "outputs": [
    {
     "data": {
      "text/plain": [
       "['fingerprint_xml\\\\AtomPairs2DFingerprintCount.xml',\n",
       " 'fingerprint_xml\\\\AtomPairs2DFingerprinter.xml',\n",
       " 'fingerprint_xml\\\\EStateFingerprinter.xml',\n",
       " 'fingerprint_xml\\\\ExtendedFingerprinter.xml',\n",
       " 'fingerprint_xml\\\\Fingerprinter.xml',\n",
       " 'fingerprint_xml\\\\GraphOnlyFingerprinter.xml',\n",
       " 'fingerprint_xml\\\\KlekotaRothFingerprintCount.xml',\n",
       " 'fingerprint_xml\\\\KlekotaRothFingerprinter.xml',\n",
       " 'fingerprint_xml\\\\MACCSFingerprinter.xml',\n",
       " 'fingerprint_xml\\\\PubchemFingerprinter.xml',\n",
       " 'fingerprint_xml\\\\SubstructureFingerprintCount.xml',\n",
       " 'fingerprint_xml\\\\SubstructureFingerprinter.xml']"
      ]
     },
     "execution_count": 4,
     "metadata": {},
     "output_type": "execute_result"
    }
   ],
   "source": [
    "import glob\n",
    "padel_fingerprints_xml = glob.glob(\"fingerprint_xml/*.xml\")\n",
    "padel_fingerprints_xml.sort()\n",
    "padel_fingerprints_xml"
   ]
  },
  {
   "cell_type": "code",
   "execution_count": 7,
   "id": "bf73057e",
   "metadata": {},
   "outputs": [],
   "source": [
    "def get_fingerprint_name (path_str):\n",
    "    # Path to the XML file\n",
    "    xml_file_path = path_str\n",
    "\n",
    "    # Find the indices of \"_xml\\\\\" and \".xml\" in the path\n",
    "    start_index = xml_file_path.find(\"_xml\\\\\") + len(\"_xml\\\\\")\n",
    "    end_index = xml_file_path.rfind(\".xml\")\n",
    "\n",
    "    if start_index != -1 and end_index != -1:\n",
    "        extracted_string = xml_file_path[start_index:end_index]\n",
    "        return extracted_string\n",
    "    else:\n",
    "        return \"Pattern not found in the path\"\n"
   ]
  },
  {
   "cell_type": "code",
   "execution_count": 8,
   "id": "3a6a990f",
   "metadata": {},
   "outputs": [],
   "source": [
    "from padelpy import padeldescriptor\n",
    "\n",
    "for i in range(0,12):\n",
    "    \n",
    "    fingerprint_xml = padel_fingerprints_xml[i]\n",
    "    fingerprint_name = get_fingerprint_name(fingerprint_xml)\n",
    "    fingerprint_output_file = f\"descriptor_output_{fingerprint_name}.csv\"\n",
    "    \n",
    "    padeldescriptor(mol_dir='bace_molecule.smi', \n",
    "                d_file=fingerprint_output_file, \n",
    "                descriptortypes= fingerprint_xml,\n",
    "                detectaromaticity=True,\n",
    "                standardizenitro=True,\n",
    "                standardizetautomers=True,\n",
    "                threads=2,\n",
    "                removesalt=True,\n",
    "                log=True,\n",
    "                fingerprints=True\n",
    "               )"
   ]
  }
 ],
 "metadata": {
  "kernelspec": {
   "display_name": "Python 3 (ipykernel)",
   "language": "python",
   "name": "python3"
  },
  "language_info": {
   "codemirror_mode": {
    "name": "ipython",
    "version": 3
   },
   "file_extension": ".py",
   "mimetype": "text/x-python",
   "name": "python",
   "nbconvert_exporter": "python",
   "pygments_lexer": "ipython3",
   "version": "3.10.9"
  }
 },
 "nbformat": 4,
 "nbformat_minor": 5
}
